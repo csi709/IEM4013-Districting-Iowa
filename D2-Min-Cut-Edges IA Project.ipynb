{
 "cells": [
  {
   "cell_type": "code",
   "execution_count": 1,
   "metadata": {},
   "outputs": [],
   "source": [
    "from gerrychain import Graph"
   ]
  },
  {
   "cell_type": "code",
   "execution_count": 2,
   "metadata": {},
   "outputs": [],
   "source": [
    "# Read Iowa county graph from the json file \"IA_county.json\"\n",
    "filepath = 'C:\\\\Users\\\\antay\\\\Downloads\\\\IA\\\\'\n",
    "filename = 'IA_county.json'\n",
    "\n",
    "# GerryChain has a built-in function for reading graphs of this type:\n",
    "G = Graph.from_json( filepath + filename )"
   ]
  },
  {
   "cell_type": "code",
   "execution_count": 3,
   "metadata": {},
   "outputs": [
    {
     "name": "stdout",
     "output_type": "stream",
     "text": [
      "Node 0 represents Wright County, which had a population of 12943 in the 2020 census.\n",
      "Node 1 represents Montgomery County, which had a population of 10330 in the 2020 census.\n",
      "Node 2 represents Union County, which had a population of 12138 in the 2020 census.\n",
      "Node 3 represents Keokuk County, which had a population of 10033 in the 2020 census.\n",
      "Node 4 represents Story County, which had a population of 98537 in the 2020 census.\n",
      "Node 5 represents Mitchell County, which had a population of 10565 in the 2020 census.\n",
      "Node 6 represents Grundy County, which had a population of 12329 in the 2020 census.\n",
      "Node 7 represents Winneshiek County, which had a population of 20070 in the 2020 census.\n",
      "Node 8 represents Polk County, which had a population of 492401 in the 2020 census.\n",
      "Node 9 represents Sac County, which had a population of 9814 in the 2020 census.\n",
      "Node 10 represents Marshall County, which had a population of 40105 in the 2020 census.\n",
      "Node 11 represents Delaware County, which had a population of 17488 in the 2020 census.\n",
      "Node 12 represents Davis County, which had a population of 9110 in the 2020 census.\n",
      "Node 13 represents Floyd County, which had a population of 15627 in the 2020 census.\n",
      "Node 14 represents Audubon County, which had a population of 5674 in the 2020 census.\n",
      "Node 15 represents Jones County, which had a population of 20646 in the 2020 census.\n",
      "Node 16 represents Hardin County, which had a population of 16878 in the 2020 census.\n",
      "Node 17 represents Boone County, which had a population of 26715 in the 2020 census.\n",
      "Node 18 represents Jasper County, which had a population of 37813 in the 2020 census.\n",
      "Node 19 represents Plymouth County, which had a population of 25698 in the 2020 census.\n",
      "Node 20 represents Pottawattamie County, which had a population of 93667 in the 2020 census.\n",
      "Node 21 represents Taylor County, which had a population of 5896 in the 2020 census.\n",
      "Node 22 represents Page County, which had a population of 15211 in the 2020 census.\n",
      "Node 23 represents Cherokee County, which had a population of 11658 in the 2020 census.\n",
      "Node 24 represents Des Moines County, which had a population of 38910 in the 2020 census.\n",
      "Node 25 represents Scott County, which had a population of 174669 in the 2020 census.\n",
      "Node 26 represents Lee County, which had a population of 33555 in the 2020 census.\n",
      "Node 27 represents Fremont County, which had a population of 6605 in the 2020 census.\n",
      "Node 28 represents Iowa County, which had a population of 16662 in the 2020 census.\n",
      "Node 29 represents Butler County, which had a population of 14334 in the 2020 census.\n",
      "Node 30 represents Emmet County, which had a population of 9388 in the 2020 census.\n",
      "Node 31 represents Woodbury County, which had a population of 105941 in the 2020 census.\n",
      "Node 32 represents Clay County, which had a population of 16384 in the 2020 census.\n",
      "Node 33 represents Crawford County, which had a population of 16525 in the 2020 census.\n",
      "Node 34 represents Buchanan County, which had a population of 20565 in the 2020 census.\n",
      "Node 35 represents Osceola County, which had a population of 6192 in the 2020 census.\n",
      "Node 36 represents Cerro Gordo County, which had a population of 43127 in the 2020 census.\n",
      "Node 37 represents Greene County, which had a population of 8771 in the 2020 census.\n",
      "Node 38 represents Wapello County, which had a population of 35437 in the 2020 census.\n",
      "Node 39 represents Henry County, which had a population of 20482 in the 2020 census.\n",
      "Node 40 represents Lyon County, which had a population of 11934 in the 2020 census.\n",
      "Node 41 represents Adams County, which had a population of 3704 in the 2020 census.\n",
      "Node 42 represents Monona County, which had a population of 8751 in the 2020 census.\n",
      "Node 43 represents Humboldt County, which had a population of 9597 in the 2020 census.\n",
      "Node 44 represents Louisa County, which had a population of 10837 in the 2020 census.\n",
      "Node 45 represents Tama County, which had a population of 17135 in the 2020 census.\n",
      "Node 46 represents Monroe County, which had a population of 7577 in the 2020 census.\n",
      "Node 47 represents Muscatine County, which had a population of 43235 in the 2020 census.\n",
      "Node 48 represents Lucas County, which had a population of 8634 in the 2020 census.\n",
      "Node 49 represents Hamilton County, which had a population of 15039 in the 2020 census.\n",
      "Node 50 represents Franklin County, which had a population of 10019 in the 2020 census.\n",
      "Node 51 represents Bremer County, which had a population of 24988 in the 2020 census.\n",
      "Node 52 represents O'Brien County, which had a population of 14182 in the 2020 census.\n",
      "Node 53 represents Guthrie County, which had a population of 10623 in the 2020 census.\n",
      "Node 54 represents Washington County, which had a population of 22565 in the 2020 census.\n",
      "Node 55 represents Sioux County, which had a population of 35872 in the 2020 census.\n",
      "Node 56 represents Allamakee County, which had a population of 14061 in the 2020 census.\n",
      "Node 57 represents Winnebago County, which had a population of 10679 in the 2020 census.\n",
      "Node 58 represents Ida County, which had a population of 7005 in the 2020 census.\n",
      "Node 59 represents Cass County, which had a population of 13127 in the 2020 census.\n",
      "Node 60 represents Decatur County, which had a population of 7645 in the 2020 census.\n",
      "Node 61 represents Cedar County, which had a population of 18505 in the 2020 census.\n",
      "Node 62 represents Carroll County, which had a population of 20760 in the 2020 census.\n",
      "Node 63 represents Pocahontas County, which had a population of 7078 in the 2020 census.\n",
      "Node 64 represents Kossuth County, which had a population of 14828 in the 2020 census.\n",
      "Node 65 represents Harrison County, which had a population of 14582 in the 2020 census.\n",
      "Node 66 represents Webster County, which had a population of 36999 in the 2020 census.\n",
      "Node 67 represents Jefferson County, which had a population of 15663 in the 2020 census.\n",
      "Node 68 represents Madison County, which had a population of 16548 in the 2020 census.\n",
      "Node 69 represents Howard County, which had a population of 9469 in the 2020 census.\n",
      "Node 70 represents Palo Alto County, which had a population of 8996 in the 2020 census.\n",
      "Node 71 represents Ringgold County, which had a population of 4663 in the 2020 census.\n",
      "Node 72 represents Clinton County, which had a population of 46460 in the 2020 census.\n",
      "Node 73 represents Calhoun County, which had a population of 9927 in the 2020 census.\n",
      "Node 74 represents Worth County, which had a population of 7443 in the 2020 census.\n",
      "Node 75 represents Black Hawk County, which had a population of 131144 in the 2020 census.\n",
      "Node 76 represents Clarke County, which had a population of 9748 in the 2020 census.\n",
      "Node 77 represents Fayette County, which had a population of 19509 in the 2020 census.\n",
      "Node 78 represents Warren County, which had a population of 52403 in the 2020 census.\n",
      "Node 79 represents Adair County, which had a population of 7496 in the 2020 census.\n",
      "Node 80 represents Chickasaw County, which had a population of 12012 in the 2020 census.\n",
      "Node 81 represents Hancock County, which had a population of 10795 in the 2020 census.\n",
      "Node 82 represents Dubuque County, which had a population of 99266 in the 2020 census.\n",
      "Node 83 represents Poweshiek County, which had a population of 18662 in the 2020 census.\n",
      "Node 84 represents Shelby County, which had a population of 11746 in the 2020 census.\n",
      "Node 85 represents Benton County, which had a population of 25575 in the 2020 census.\n",
      "Node 86 represents Wayne County, which had a population of 6497 in the 2020 census.\n",
      "Node 87 represents Jackson County, which had a population of 19485 in the 2020 census.\n",
      "Node 88 represents Linn County, which had a population of 230299 in the 2020 census.\n",
      "Node 89 represents Dickinson County, which had a population of 17703 in the 2020 census.\n",
      "Node 90 represents Clayton County, which had a population of 17043 in the 2020 census.\n",
      "Node 91 represents Buena Vista County, which had a population of 20823 in the 2020 census.\n",
      "Node 92 represents Mills County, which had a population of 14484 in the 2020 census.\n",
      "Node 93 represents Dallas County, which had a population of 99678 in the 2020 census.\n",
      "Node 94 represents Marion County, which had a population of 33414 in the 2020 census.\n",
      "Node 95 represents Mahaska County, which had a population of 22190 in the 2020 census.\n",
      "Node 96 represents Appanoose County, which had a population of 12317 in the 2020 census.\n",
      "Node 97 represents Van Buren County, which had a population of 7203 in the 2020 census.\n",
      "Node 98 represents Johnson County, which had a population of 152854 in the 2020 census.\n"
     ]
    }
   ],
   "source": [
    "# For each node, print the node #, county name, and its population\n",
    "for node in G.nodes:\n",
    "    county_name = G.nodes[node]['NAME20']\n",
    "    county_population = G.nodes[node]['P0010001']\n",
    "    G.nodes[node]['TOTPOP'] = county_population\n",
    "    print(\"Node\",node,\"represents\",county_name,\"County, which had a population of\",county_population,\"in the 2020 census.\")"
   ]
  },
  {
   "cell_type": "code",
   "execution_count": 4,
   "metadata": {},
   "outputs": [
    {
     "name": "stdout",
     "output_type": "stream",
     "text": [
      "Using L = 789617 and U = 805568 and k = 4\n"
     ]
    }
   ],
   "source": [
    "# Let's impose a 2% population deviation (+/-1%)\n",
    "# (Usually, we use 1% deviation, but this instance is infeasible at 1%.)\n",
    "deviation = 0.02\n",
    "\n",
    "k = 4  # desired number of districts\n",
    "total_population = sum( G.nodes[i]['TOTPOP'] for i in G.nodes )\n",
    "ideal_population = total_population / k\n",
    "\n",
    "import math\n",
    "L = math.ceil( ( 1 - deviation / 2 ) * ideal_population )\n",
    "U = math.floor( ( 1 + deviation / 2 ) * ideal_population )\n",
    "print(\"Using L =\",L,\"and U =\",U,\"and k =\",k)"
   ]
  },
  {
   "cell_type": "code",
   "execution_count": 5,
   "metadata": {},
   "outputs": [
    {
     "name": "stdout",
     "output_type": "stream",
     "text": [
      "Set parameter Username\n",
      "Academic license - for non-commercial use only - expires 2024-01-14\n"
     ]
    }
   ],
   "source": [
    "import gurobipy as gp\n",
    "from gurobipy import GRB\n",
    "\n",
    "# create model \n",
    "m = gp.Model()\n",
    "\n",
    "# create variables\n",
    "x = m.addVars( G.nodes, k, vtype=GRB.BINARY ) # x[i,j] = 1 if county i is assigned to district j\n",
    "y = m.addVars( G.edges, vtype=GRB.BINARY )    # y[u,v] = 1 when edge {u,v} is cut"
   ]
  },
  {
   "cell_type": "code",
   "execution_count": 6,
   "metadata": {},
   "outputs": [],
   "source": [
    "# objective is to minimize cut edges\n",
    "m.setObjective( gp.quicksum( y[u,v] for u,v in G.edges ), GRB.MINIMIZE )\n",
    "\n",
    "## Equivalently, we could write:\n",
    "#m.setObjective( gp.quicksum( y ), GRB.MINIMIZE )"
   ]
  },
  {
   "cell_type": "code",
   "execution_count": 7,
   "metadata": {},
   "outputs": [],
   "source": [
    "# add constraints saying that each county i is assigned to one district\n",
    "m.addConstrs( gp.quicksum( x[i,j] for j in range(k) ) == 1 for i in G.nodes )\n",
    "\n",
    "# add constraints saying that each district has a population at least L and at most U.\n",
    "m.addConstrs( gp.quicksum( G.nodes[i]['TOTPOP'] * x[i,j] for i in G.nodes ) >= L for j in range(k) )\n",
    "m.addConstrs( gp.quicksum( G.nodes[i]['TOTPOP'] * x[i,j] for i in G.nodes ) <= U for j in range(k) )\n",
    "\n",
    "# add constraints saying that edge {u,v} is cut if u is assigned to district j but v is not.\n",
    "m.addConstrs( x[u,j] - x[v,j] <= y[u,v] for u,v in G.edges for j in range(k) )\n",
    "\n",
    "m.update()"
   ]
  },
  {
   "cell_type": "code",
   "execution_count": 8,
   "metadata": {},
   "outputs": [
    {
     "name": "stdout",
     "output_type": "stream",
     "text": [
      "Gurobi Optimizer version 10.0.0 build v10.0.0rc2 (win64)\n",
      "\n",
      "CPU model: Intel(R) Core(TM) i7-6700HQ CPU @ 2.60GHz, instruction set [SSE2|AVX|AVX2]\n",
      "Thread count: 4 physical cores, 8 logical processors, using up to 8 threads\n",
      "\n",
      "Optimize a model with 995 rows, 618 columns and 3852 nonzeros\n",
      "Model fingerprint: 0xc3b5bfc4\n",
      "Variable types: 0 continuous, 618 integer (618 binary)\n",
      "Coefficient statistics:\n",
      "  Matrix range     [1e+00, 5e+05]\n",
      "  Objective range  [1e+00, 1e+00]\n",
      "  Bounds range     [1e+00, 1e+00]\n",
      "  RHS range        [1e+00, 8e+05]\n",
      "Found heuristic solution: objective 159.0000000\n",
      "Presolve time: 0.01s\n",
      "Presolved: 995 rows, 618 columns, 3852 nonzeros\n",
      "Variable types: 0 continuous, 618 integer (618 binary)\n",
      "\n",
      "Root relaxation: objective 0.000000e+00, 623 iterations, 0.02 seconds (0.02 work units)\n",
      "\n",
      "    Nodes    |    Current Node    |     Objective Bounds      |     Work\n",
      " Expl Unexpl |  Obj  Depth IntInf | Incumbent    BestBd   Gap | It/Node Time\n",
      "\n",
      "     0     0    0.00000    0  396  159.00000    0.00000   100%     -    0s\n",
      "H    0     0                     120.0000000    0.00000   100%     -    0s\n",
      "H    0     0                     119.0000000    0.00000   100%     -    0s\n",
      "     0     0    0.78046    0  401  119.00000    0.78046  99.3%     -    0s\n",
      "H    0     0                     115.0000000    0.78046  99.3%     -    0s\n",
      "H    0     0                     112.0000000    0.78046  99.3%     -    0s\n",
      "     0     0    3.84845    0  398  112.00000    3.84845  96.6%     -    0s\n",
      "     0     0    4.71435    0  402  112.00000    4.71435  95.8%     -    0s\n",
      "     0     0    4.71435    0  402  112.00000    4.71435  95.8%     -    0s\n",
      "     0     0    4.71435    0  407  112.00000    4.71435  95.8%     -    0s\n",
      "     0     0    4.71435    0  409  112.00000    4.71435  95.8%     -    0s\n",
      "     0     0    4.71435    0  409  112.00000    4.71435  95.8%     -    0s\n",
      "H    0     0                     108.0000000    4.71435  95.6%     -    0s\n",
      "     0     0    4.97488    0  408  108.00000    4.97488  95.4%     -    0s\n",
      "     0     0    4.97488    0  408  108.00000    4.97488  95.4%     -    0s\n",
      "H    0     0                      98.0000000    4.97488  94.9%     -    0s\n",
      "H    0     0                      92.0000000    4.97488  94.6%     -    0s\n",
      "     0     2    4.97488    0  408   92.00000    4.97488  94.6%     -    0s\n",
      "H   29    31                      82.0000000   10.26252  87.5%   304    1s\n",
      "H   61    63                      81.0000000   10.26252  87.3%   300    1s\n",
      "H  120   125                      75.0000000   10.26252  86.3%   248    1s\n",
      "H  165   158                      71.0000000   10.26252  85.5%   205    2s\n",
      "H  171   158                      68.0000000   10.26252  84.9%   202    2s\n",
      "H  211   198                      67.0000000   10.26252  84.7%   182    2s\n",
      "H  237   242                      65.0000000   10.26252  84.2%   172    2s\n",
      "H  250   242                      64.0000000   10.26252  84.0%   166    2s\n",
      "*  307   292              83      58.0000000   10.26252  82.3%   146    2s\n",
      "H  343   258                      50.0000000   10.26252  79.5%   140    2s\n",
      "H  382   228                      46.0000000   10.26252  77.7%   134    2s\n",
      "H  388   222                      42.0000000   10.26252  75.6%   133    2s\n",
      "H  425   232                      40.0000000   10.56551  73.6%   139    2s\n",
      "H  461   232                      34.0000000   10.56551  68.9%   136    2s\n",
      "H  785   381                      33.0000000   12.40787  62.4%   138    4s\n",
      "   911   441     cutoff   26        33.00000   12.76202  61.3%   145    5s\n",
      "  1445   637   29.99454   33  362   33.00000   12.99757  60.6%   164   10s\n",
      "  2349   858   28.81917   25  387   33.00000   15.22681  53.9%   163   15s\n",
      "  3997  1743   30.11355   26  342   33.00000   17.95277  45.6%   152   20s\n",
      "  6085  2803   22.28996   25  403   33.00000   19.14284  42.0%   143   25s\n",
      "  8299  3804   23.08949   21  336   33.00000   20.06383  39.2%   139   30s\n",
      " 10474  4861   31.20621   34  371   33.00000   20.70716  37.3%   137   35s\n",
      " 12979  5982   26.69387   25  351   33.00000   21.28075  35.5%   134   40s\n",
      " 14785  6762     cutoff   28        33.00000   21.62826  34.5%   133   45s\n",
      " 17430  7876   30.28042   27  411   33.00000   22.15846  32.9%   130   50s\n",
      " 20375  9041   25.67333   23  345   33.00000   22.59445  31.5%   128   55s\n",
      " 23539 10163   26.63648   24  432   33.00000   22.96581  30.4%   127   61s\n",
      " 25982 11070     cutoff   35        33.00000   23.21741  29.6%   126   65s\n",
      " 29260 12213   25.12787   26  399   33.00000   23.49713  28.8%   124   81s\n",
      " 31633 12855   30.94222   31  275   33.00000   23.68535  28.2%   124   85s\n",
      " 33998 13528   29.81207   21  341   33.00000   23.86220  27.7%   124   90s\n",
      " 36140 14191   26.96921   26  416   33.00000   24.02087  27.2%   125   95s\n",
      " 38491 14805   27.46721   24  444   33.00000   24.18621  26.7%   125  100s\n",
      " 40889 15427   26.68060   30  309   33.00000   24.35542  26.2%   126  105s\n",
      " 43311 16016   30.23567   31  353   33.00000   24.48706  25.8%   125  110s\n",
      " 45684 16542   26.90804   23  331   33.00000   24.65599  25.3%   126  115s\n",
      " 48079 17123   27.66874   26  331   33.00000   24.78528  24.9%   126  121s\n",
      " 50617 17716   31.90214   35  359   33.00000   24.93798  24.4%   126  126s\n",
      " 52303 18092   31.79423   29  198   33.00000   25.03285  24.1%   126  130s\n",
      " 54796 18597   29.38836   24  326   33.00000   25.14247  23.8%   126  135s\n",
      " 57275 19057     cutoff   30        33.00000   25.25815  23.5%   126  141s\n",
      " 59776 19535     cutoff   41        33.00000   25.36414  23.1%   126  146s\n",
      " 62306 20049     cutoff   33        33.00000   25.47204  22.8%   126  151s\n",
      " 64792 20496     cutoff   25        33.00000   25.59614  22.4%   126  156s\n",
      " 67163 20907   30.65514   26  378   33.00000   25.67262  22.2%   126  160s\n",
      " 69336 21223   31.55807   37  329   33.00000   25.74246  22.0%   126  165s\n",
      " 71899 21627     cutoff   26        33.00000   25.83827  21.7%   126  171s\n",
      " 74284 22072   29.53852   28  354   33.00000   25.92617  21.4%   126  176s\n",
      " 76015 22381   27.33797   26  327   33.00000   25.97249  21.3%   125  180s\n",
      " 78459 22832   29.13086   27  366   33.00000   26.05931  21.0%   125  185s\n",
      " 81534 23258   31.71506   32  389   33.00000   26.17145  20.7%   125  191s\n",
      " 83988 23600     cutoff   29        33.00000   26.24716  20.5%   125  196s\n",
      " 86457 23901   28.09141   24  442   33.00000   26.32712  20.2%   125  201s\n",
      " 88711 24245     cutoff   29        33.00000   26.38909  20.0%   125  206s\n",
      " 91167 24547     cutoff   31        33.00000   26.46168  19.8%   125  211s\n",
      " 93518 24826   31.51511   29  286   33.00000   26.53868  19.6%   125  216s\n",
      " 96003 25137     cutoff   32        33.00000   26.59866  19.4%   125  221s\n",
      " 98437 25548   31.34071   34  323   33.00000   26.65689  19.2%   124  226s\n",
      "*98950 23410              61      32.0000000   26.65850  16.7%   124  226s\n",
      " 99477 23382     cutoff   25        32.00000   26.68608  16.6%   124  230s\n",
      " 101939 23458     cutoff   29        32.00000   26.77987  16.3%   124  235s\n",
      " 104395 23483     cutoff   27        32.00000   26.86127  16.1%   124  240s\n",
      " 106844 23499     cutoff   27        32.00000   26.93471  15.8%   124  245s\n",
      " 110079 23538   29.59204   24  356   32.00000   27.03247  15.5%   124  251s\n",
      " 112605 23495   30.16529   36  283   32.00000   27.10906  15.3%   123  256s\n",
      " 115027 23466     cutoff   37        32.00000   27.19863  15.0%   123  260s\n",
      " 117553 23441   29.29758   32  285   32.00000   27.27269  14.8%   123  265s\n",
      " 120913 23454   30.60715   28  360   32.00000   27.37085  14.5%   123  271s\n",
      " 123317 23414   30.66522   31  315   32.00000   27.44093  14.2%   123  275s\n",
      " 125797 23362   30.47063   23  413   32.00000   27.50607  14.0%   122  280s\n",
      " 127840 23267   30.69977   31  318   32.00000   27.56155  13.9%   122  285s\n",
      " 130353 23141     cutoff   28        32.00000   27.62466  13.7%   122  290s\n",
      " 132762 23015   29.87045   36  278   32.00000   27.68475  13.5%   122  295s\n",
      " 135360 22906   30.91992   28  350   32.00000   27.75845  13.3%   122  300s\n",
      " 138557 22720   30.57310   32  296   32.00000   27.84508  13.0%   121  306s\n",
      " 140228 22580   30.27717   29  382   32.00000   27.88373  12.9%   121  310s\n",
      " 143611 22361   29.58012   29  381   32.00000   27.97369  12.6%   121  316s\n",
      " 146087 22130   28.89729   25  362   32.00000   28.03958  12.4%   121  320s\n",
      " 148555 21897   30.85920   27  339   32.00000   28.10417  12.2%   121  325s\n"
     ]
    },
    {
     "name": "stdout",
     "output_type": "stream",
     "text": [
      " 151792 21559   30.94769   29  389   32.00000   28.18918  11.9%   121  331s\n",
      " 154327 21270     cutoff   32        32.00000   28.26335  11.7%   120  336s\n",
      " 156740 20990     cutoff   29        32.00000   28.32453  11.5%   120  341s\n",
      " 159294 20652     cutoff   27        32.00000   28.38821  11.3%   120  345s\n",
      " 161666 20319     cutoff   31        32.00000   28.44709  11.1%   120  350s\n",
      " 165179 19818   30.79636   29  249   32.00000   28.53717  10.8%   119  356s\n",
      " 167521 19410   29.74069   29  355   32.00000   28.59317  10.6%   119  360s\n",
      " 169943 18942   29.99709   38  223   32.00000   28.65822  10.4%   119  365s\n",
      " 173340 18310     cutoff   34        32.00000   28.74847  10.2%   119  370s\n",
      " 175923 17807   30.83200   31  317   32.00000   28.80832  10.0%   119  375s\n",
      " 178366 17383   30.24617   32  271   32.00000   28.88526  9.73%   118  380s\n",
      " 181170 16583   29.87529   35  234   32.00000   28.95946  9.50%   118  386s\n",
      " 183573 15945   30.14705   30  348   32.00000   29.03676  9.26%   118  390s\n",
      " 186017 15243   30.96050   24  329   32.00000   29.10159  9.06%   118  395s\n",
      " 189465 14228     cutoff   31        32.00000   29.20681  8.73%   118  401s\n",
      " 191982 13458     cutoff   35        32.00000   29.29471  8.45%   117  405s\n",
      " 194005 12787   30.88387   38  155   32.00000   29.34740  8.29%   117  410s\n",
      " 196606 11864   30.86018   33  164   32.00000   29.43229  8.02%   117  415s\n",
      " 199226 10814     cutoff   34        32.00000   29.53481  7.70%   117  420s\n",
      " 202652  9250     cutoff   36        32.00000   29.67358  7.27%   116  425s\n",
      " 206046  7473     cutoff   27        32.00000   29.84184  6.74%   116  431s\n",
      " 208604  5972     cutoff   40        32.00000   29.97216  6.34%   116  435s\n",
      " 212247  3497     cutoff   29        32.00000   30.25954  5.44%   115  440s\n",
      "\n",
      "Cutting planes:\n",
      "  Gomory: 11\n",
      "  Cover: 1\n",
      "  Zero half: 1\n",
      "  RLT: 85\n",
      "\n",
      "Explored 217130 nodes (24661849 simplex iterations) in 443.98 seconds (476.06 work units)\n",
      "Thread count was 8 (of 8 available processors)\n",
      "\n",
      "Solution count 10: 32 33 34 ... 65\n",
      "\n",
      "Optimal solution found (tolerance 1.00e-04)\n",
      "Best objective 3.200000000000e+01, best bound 3.200000000000e+01, gap 0.0000%\n"
     ]
    }
   ],
   "source": [
    "# solve IP model\n",
    "m.optimize()"
   ]
  },
  {
   "cell_type": "code",
   "execution_count": 9,
   "metadata": {},
   "outputs": [
    {
     "name": "stdout",
     "output_type": "stream",
     "text": [
      "The number of cut edges is 32.0\n",
      "District 0 has these nodes = [0, 1, 2, 9, 14, 19, 20, 21, 22, 23, 27, 30, 31, 32, 33, 35, 37, 40, 41, 42, 43, 48, 52, 53, 55, 57, 58, 59, 60, 62, 63, 64, 65, 66, 68, 70, 71, 73, 76, 78, 79, 81, 84, 89, 91, 92] and this population = 794167\n",
      "The corresponding county names are = ['Wright', 'Montgomery', 'Union', 'Sac', 'Audubon', 'Plymouth', 'Pottawattamie', 'Taylor', 'Page', 'Cherokee', 'Fremont', 'Emmet', 'Woodbury', 'Clay', 'Crawford', 'Osceola', 'Greene', 'Lyon', 'Adams', 'Monona', 'Humboldt', 'Lucas', \"O'Brien\", 'Guthrie', 'Sioux', 'Winnebago', 'Ida', 'Cass', 'Decatur', 'Carroll', 'Pocahontas', 'Kossuth', 'Harrison', 'Webster', 'Madison', 'Palo Alto', 'Ringgold', 'Calhoun', 'Clarke', 'Warren', 'Adair', 'Hancock', 'Shelby', 'Dickinson', 'Buena Vista', 'Mills']\n",
      "\n",
      "District 1 has these nodes = [4, 6, 8, 10, 16, 17, 49, 93] and this population = 801682\n",
      "The corresponding county names are = ['Story', 'Grundy', 'Polk', 'Marshall', 'Hardin', 'Boone', 'Hamilton', 'Dallas']\n",
      "\n",
      "District 2 has these nodes = [5, 7, 11, 13, 15, 29, 34, 36, 45, 50, 51, 56, 69, 74, 75, 77, 80, 82, 85, 87, 88, 90] and this population = 799870\n",
      "The corresponding county names are = ['Mitchell', 'Winneshiek', 'Delaware', 'Floyd', 'Jones', 'Butler', 'Buchanan', 'Cerro Gordo', 'Tama', 'Franklin', 'Bremer', 'Allamakee', 'Howard', 'Worth', 'Black Hawk', 'Fayette', 'Chickasaw', 'Dubuque', 'Benton', 'Jackson', 'Linn', 'Clayton']\n",
      "\n",
      "District 3 has these nodes = [3, 12, 18, 24, 25, 26, 28, 38, 39, 44, 46, 47, 54, 61, 67, 72, 83, 86, 94, 95, 96, 97, 98] and this population = 794650\n",
      "The corresponding county names are = ['Keokuk', 'Davis', 'Jasper', 'Des Moines', 'Scott', 'Lee', 'Iowa', 'Wapello', 'Henry', 'Louisa', 'Monroe', 'Muscatine', 'Washington', 'Cedar', 'Jefferson', 'Clinton', 'Poweshiek', 'Wayne', 'Marion', 'Mahaska', 'Appanoose', 'Van Buren', 'Johnson']\n",
      "\n"
     ]
    }
   ],
   "source": [
    "print(\"The number of cut edges is\",m.objval)\n",
    "\n",
    "# retrieve the districts and their populations\n",
    "districts = [ [ i for i in G.nodes if x[i,j].x > 0.5 ] for j in range(k) ]\n",
    "district_county_names = [ [ G.nodes[i]['NAME20'] for i in district ] for district in districts ]\n",
    "district_populations = [ sum( G.nodes[i]['TOTPOP'] for i in district ) for district in districts ]\n",
    "\n",
    "# print district info\n",
    "for j in range(k):\n",
    "    print(\"District\",j,\"has these nodes =\",districts[j],\"and this population =\",district_populations[j] )\n",
    "    print(\"The corresponding county names are =\",district_county_names[j] )\n",
    "    print(\"\")"
   ]
  },
  {
   "cell_type": "code",
   "execution_count": 10,
   "metadata": {},
   "outputs": [
    {
     "name": "stdout",
     "output_type": "stream",
     "text": [
      "Is district = [0, 1, 2, 9, 14, 19, 20, 21, 22, 23, 27, 30, 31, 32, 33, 35, 37, 40, 41, 42, 43, 48, 52, 53, 55, 57, 58, 59, 60, 62, 63, 64, 65, 66, 68, 70, 71, 73, 76, 78, 79, 81, 84, 89, 91, 92] connected? True\n",
      "Is district = [4, 6, 8, 10, 16, 17, 49, 93] connected? True\n",
      "Is district = [5, 7, 11, 13, 15, 29, 34, 36, 45, 50, 51, 56, 69, 74, 75, 77, 80, 82, 85, 87, 88, 90] connected? True\n",
      "Is district = [3, 12, 18, 24, 25, 26, 28, 38, 39, 44, 46, 47, 54, 61, 67, 72, 83, 86, 94, 95, 96, 97, 98] connected? True\n"
     ]
    }
   ],
   "source": [
    "import networkx as nx\n",
    "for district in districts:\n",
    "    print(\"Is district =\", district, \"connected?\", nx.is_connected( G.subgraph( district ) ) )"
   ]
  },
  {
   "cell_type": "code",
   "execution_count": 11,
   "metadata": {},
   "outputs": [],
   "source": [
    "# Let's draw it on a map\n",
    "import geopandas as gpd"
   ]
  },
  {
   "cell_type": "code",
   "execution_count": 12,
   "metadata": {},
   "outputs": [],
   "source": [
    "# Read Iowa county shapefile from \"IA_county.shp\"\n",
    "filepath = 'C:\\\\Users\\\\antay\\\\Downloads\\\\IA\\\\'\n",
    "filename = 'IA_county.shp'\n",
    "\n",
    "# Read geopandas dataframe from file\n",
    "df = gpd.read_file( filepath + filename )"
   ]
  },
  {
   "cell_type": "code",
   "execution_count": 13,
   "metadata": {},
   "outputs": [
    {
     "data": {
      "image/png": "[encoded data removed]",
      "text/plain": [
       "<Figure size 640x480 with 1 Axes>"
      ]
     },
     "metadata": {},
     "output_type": "display_data"
    }
   ],
   "source": [
    "# Which district is each county assigned to?\n",
    "assignment = [ -1 for i in G.nodes ]\n",
    "labeling = { i : j for i in G.nodes for j in range(k) if x[i,j].x > 0.5 }\n",
    "\n",
    "# Now add the assignments to a column of the dataframe and map it\n",
    "node_with_this_geoid = { G.nodes[i]['GEOID20'] : i for i in G.nodes }\n",
    "\n",
    "# pick a position u in the dataframe\n",
    "for u in range(G.number_of_nodes()):\n",
    "    \n",
    "    geoid = df['GEOID20'][u]\n",
    "    \n",
    "    # what node in G has this geoid?\n",
    "    i = node_with_this_geoid[geoid]\n",
    "    \n",
    "    # position u in the dataframe should be given\n",
    "    # the same district # that county i has in 'labeling'\n",
    "    assignment[u] = labeling[i]\n",
    "    \n",
    "# now add the assignments to a column of our dataframe and then map it\n",
    "df['assignment'] = assignment\n",
    "\n",
    "my_fig = df.plot(column='assignment').get_figure()"
   ]
  },
  {
   "cell_type": "code",
   "execution_count": null,
   "metadata": {},
   "outputs": [],
   "source": []
  }
 ],
 "metadata": {
  "kernelspec": {
   "display_name": "Python 3 (ipykernel)",
   "language": "python",
   "name": "python3"
  },
  "language_info": {
   "codemirror_mode": {
    "name": "ipython",
    "version": 3
   },
   "file_extension": ".py",
   "mimetype": "text/x-python",
   "name": "python",
   "nbconvert_exporter": "python",
   "pygments_lexer": "ipython3",
   "version": "3.9.13"
  }
 },
 "nbformat": 4,
 "nbformat_minor": 4
}
