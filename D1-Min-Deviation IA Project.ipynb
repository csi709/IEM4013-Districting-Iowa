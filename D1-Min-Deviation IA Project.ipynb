{
 "cells": [
  {
   "cell_type": "code",
   "execution_count": 1,
   "metadata": {},
   "outputs": [],
   "source": [
    "# GerryChain is a library for using Markov Chain Monte Carlo methods to study the problem of political redistricting. \n",
    "#   Development of the library began during the 2018 Voting Rights Data Institute (VRDI).\n",
    "#\n",
    "# Install instructions: https://gerrychain.readthedocs.io/en/latest/user/install.html\n",
    "\n",
    "from gerrychain import Graph\n",
    "\n",
    "# Read Iowa county graph from the json file \"IA_county.json\"\n",
    "filepath = 'C:\\\\Users\\\\antay\\\\Downloads\\\\IA\\\\'\n",
    "filename = 'IA_county.json'\n",
    "\n",
    "# GerryChain has a built-in function for reading graphs of this type:\n",
    "G = Graph.from_json( filepath + filename )"
   ]
  },
  {
   "cell_type": "code",
   "execution_count": 2,
   "metadata": {},
   "outputs": [
    {
     "name": "stdout",
     "output_type": "stream",
     "text": [
      "Node 0 represents Wright County, which had a population of 12943 in the 2020 census.\n",
      "Node 1 represents Montgomery County, which had a population of 10330 in the 2020 census.\n",
      "Node 2 represents Union County, which had a population of 12138 in the 2020 census.\n",
      "Node 3 represents Keokuk County, which had a population of 10033 in the 2020 census.\n",
      "Node 4 represents Story County, which had a population of 98537 in the 2020 census.\n",
      "Node 5 represents Mitchell County, which had a population of 10565 in the 2020 census.\n",
      "Node 6 represents Grundy County, which had a population of 12329 in the 2020 census.\n",
      "Node 7 represents Winneshiek County, which had a population of 20070 in the 2020 census.\n",
      "Node 8 represents Polk County, which had a population of 492401 in the 2020 census.\n",
      "Node 9 represents Sac County, which had a population of 9814 in the 2020 census.\n",
      "Node 10 represents Marshall County, which had a population of 40105 in the 2020 census.\n",
      "Node 11 represents Delaware County, which had a population of 17488 in the 2020 census.\n",
      "Node 12 represents Davis County, which had a population of 9110 in the 2020 census.\n",
      "Node 13 represents Floyd County, which had a population of 15627 in the 2020 census.\n",
      "Node 14 represents Audubon County, which had a population of 5674 in the 2020 census.\n",
      "Node 15 represents Jones County, which had a population of 20646 in the 2020 census.\n",
      "Node 16 represents Hardin County, which had a population of 16878 in the 2020 census.\n",
      "Node 17 represents Boone County, which had a population of 26715 in the 2020 census.\n",
      "Node 18 represents Jasper County, which had a population of 37813 in the 2020 census.\n",
      "Node 19 represents Plymouth County, which had a population of 25698 in the 2020 census.\n",
      "Node 20 represents Pottawattamie County, which had a population of 93667 in the 2020 census.\n",
      "Node 21 represents Taylor County, which had a population of 5896 in the 2020 census.\n",
      "Node 22 represents Page County, which had a population of 15211 in the 2020 census.\n",
      "Node 23 represents Cherokee County, which had a population of 11658 in the 2020 census.\n",
      "Node 24 represents Des Moines County, which had a population of 38910 in the 2020 census.\n",
      "Node 25 represents Scott County, which had a population of 174669 in the 2020 census.\n",
      "Node 26 represents Lee County, which had a population of 33555 in the 2020 census.\n",
      "Node 27 represents Fremont County, which had a population of 6605 in the 2020 census.\n",
      "Node 28 represents Iowa County, which had a population of 16662 in the 2020 census.\n",
      "Node 29 represents Butler County, which had a population of 14334 in the 2020 census.\n",
      "Node 30 represents Emmet County, which had a population of 9388 in the 2020 census.\n",
      "Node 31 represents Woodbury County, which had a population of 105941 in the 2020 census.\n",
      "Node 32 represents Clay County, which had a population of 16384 in the 2020 census.\n",
      "Node 33 represents Crawford County, which had a population of 16525 in the 2020 census.\n",
      "Node 34 represents Buchanan County, which had a population of 20565 in the 2020 census.\n",
      "Node 35 represents Osceola County, which had a population of 6192 in the 2020 census.\n",
      "Node 36 represents Cerro Gordo County, which had a population of 43127 in the 2020 census.\n",
      "Node 37 represents Greene County, which had a population of 8771 in the 2020 census.\n",
      "Node 38 represents Wapello County, which had a population of 35437 in the 2020 census.\n",
      "Node 39 represents Henry County, which had a population of 20482 in the 2020 census.\n",
      "Node 40 represents Lyon County, which had a population of 11934 in the 2020 census.\n",
      "Node 41 represents Adams County, which had a population of 3704 in the 2020 census.\n",
      "Node 42 represents Monona County, which had a population of 8751 in the 2020 census.\n",
      "Node 43 represents Humboldt County, which had a population of 9597 in the 2020 census.\n",
      "Node 44 represents Louisa County, which had a population of 10837 in the 2020 census.\n",
      "Node 45 represents Tama County, which had a population of 17135 in the 2020 census.\n",
      "Node 46 represents Monroe County, which had a population of 7577 in the 2020 census.\n",
      "Node 47 represents Muscatine County, which had a population of 43235 in the 2020 census.\n",
      "Node 48 represents Lucas County, which had a population of 8634 in the 2020 census.\n",
      "Node 49 represents Hamilton County, which had a population of 15039 in the 2020 census.\n",
      "Node 50 represents Franklin County, which had a population of 10019 in the 2020 census.\n",
      "Node 51 represents Bremer County, which had a population of 24988 in the 2020 census.\n",
      "Node 52 represents O'Brien County, which had a population of 14182 in the 2020 census.\n",
      "Node 53 represents Guthrie County, which had a population of 10623 in the 2020 census.\n",
      "Node 54 represents Washington County, which had a population of 22565 in the 2020 census.\n",
      "Node 55 represents Sioux County, which had a population of 35872 in the 2020 census.\n",
      "Node 56 represents Allamakee County, which had a population of 14061 in the 2020 census.\n",
      "Node 57 represents Winnebago County, which had a population of 10679 in the 2020 census.\n",
      "Node 58 represents Ida County, which had a population of 7005 in the 2020 census.\n",
      "Node 59 represents Cass County, which had a population of 13127 in the 2020 census.\n",
      "Node 60 represents Decatur County, which had a population of 7645 in the 2020 census.\n",
      "Node 61 represents Cedar County, which had a population of 18505 in the 2020 census.\n",
      "Node 62 represents Carroll County, which had a population of 20760 in the 2020 census.\n",
      "Node 63 represents Pocahontas County, which had a population of 7078 in the 2020 census.\n",
      "Node 64 represents Kossuth County, which had a population of 14828 in the 2020 census.\n",
      "Node 65 represents Harrison County, which had a population of 14582 in the 2020 census.\n",
      "Node 66 represents Webster County, which had a population of 36999 in the 2020 census.\n",
      "Node 67 represents Jefferson County, which had a population of 15663 in the 2020 census.\n",
      "Node 68 represents Madison County, which had a population of 16548 in the 2020 census.\n",
      "Node 69 represents Howard County, which had a population of 9469 in the 2020 census.\n",
      "Node 70 represents Palo Alto County, which had a population of 8996 in the 2020 census.\n",
      "Node 71 represents Ringgold County, which had a population of 4663 in the 2020 census.\n",
      "Node 72 represents Clinton County, which had a population of 46460 in the 2020 census.\n",
      "Node 73 represents Calhoun County, which had a population of 9927 in the 2020 census.\n",
      "Node 74 represents Worth County, which had a population of 7443 in the 2020 census.\n",
      "Node 75 represents Black Hawk County, which had a population of 131144 in the 2020 census.\n",
      "Node 76 represents Clarke County, which had a population of 9748 in the 2020 census.\n",
      "Node 77 represents Fayette County, which had a population of 19509 in the 2020 census.\n",
      "Node 78 represents Warren County, which had a population of 52403 in the 2020 census.\n",
      "Node 79 represents Adair County, which had a population of 7496 in the 2020 census.\n",
      "Node 80 represents Chickasaw County, which had a population of 12012 in the 2020 census.\n",
      "Node 81 represents Hancock County, which had a population of 10795 in the 2020 census.\n",
      "Node 82 represents Dubuque County, which had a population of 99266 in the 2020 census.\n",
      "Node 83 represents Poweshiek County, which had a population of 18662 in the 2020 census.\n",
      "Node 84 represents Shelby County, which had a population of 11746 in the 2020 census.\n",
      "Node 85 represents Benton County, which had a population of 25575 in the 2020 census.\n",
      "Node 86 represents Wayne County, which had a population of 6497 in the 2020 census.\n",
      "Node 87 represents Jackson County, which had a population of 19485 in the 2020 census.\n",
      "Node 88 represents Linn County, which had a population of 230299 in the 2020 census.\n",
      "Node 89 represents Dickinson County, which had a population of 17703 in the 2020 census.\n",
      "Node 90 represents Clayton County, which had a population of 17043 in the 2020 census.\n",
      "Node 91 represents Buena Vista County, which had a population of 20823 in the 2020 census.\n",
      "Node 92 represents Mills County, which had a population of 14484 in the 2020 census.\n",
      "Node 93 represents Dallas County, which had a population of 99678 in the 2020 census.\n",
      "Node 94 represents Marion County, which had a population of 33414 in the 2020 census.\n",
      "Node 95 represents Mahaska County, which had a population of 22190 in the 2020 census.\n",
      "Node 96 represents Appanoose County, which had a population of 12317 in the 2020 census.\n",
      "Node 97 represents Van Buren County, which had a population of 7203 in the 2020 census.\n",
      "Node 98 represents Johnson County, which had a population of 152854 in the 2020 census.\n"
     ]
    }
   ],
   "source": [
    "# For each node, print the node #, county name, and its population\n",
    "for node in G.nodes:\n",
    "    county_name = G.nodes[node]['NAME20']\n",
    "    county_population = G.nodes[node]['P0010001']\n",
    "    G.nodes[node]['TOTPOP'] = county_population\n",
    "    print(\"Node\",node,\"represents\",county_name,\"County, which had a population of\",county_population,\"in the 2020 census.\")"
   ]
  },
  {
   "cell_type": "code",
   "execution_count": 3,
   "metadata": {},
   "outputs": [],
   "source": [
    "# we are to solve the following task:\n",
    "# input: a population vector, desired number of districts k\n",
    "# output: a partition of the populations into k districts (not necessarily connected!) \n",
    "#            to minimize the difference between most and least populated districts\n",
    "\n",
    "import gurobipy as gp\n",
    "from gurobipy import GRB"
   ]
  },
  {
   "cell_type": "code",
   "execution_count": 4,
   "metadata": {},
   "outputs": [
    {
     "name": "stdout",
     "output_type": "stream",
     "text": [
      "Set parameter Username\n",
      "Academic license - for non-commercial use only - expires 2024-01-14\n"
     ]
    }
   ],
   "source": [
    "k = 4  # desired number of districts\n",
    "\n",
    "# create model \n",
    "m = gp.Model()\n",
    "\n",
    "# create variables\n",
    "x = m.addVars( G.nodes, k, vtype=GRB.BINARY )  # x[i,j] = 1 when county i is assigned to district j\n",
    "y = m.addVar()                                 # y = population of smallest district\n",
    "z = m.addVar()                                 # z = population of largest district"
   ]
  },
  {
   "cell_type": "code",
   "execution_count": 5,
   "metadata": {},
   "outputs": [],
   "source": [
    "# objective is to minimize absolute population deviation\n",
    "m.setObjective( z - y, GRB.MINIMIZE )\n",
    "\n",
    "# add constraints saying that each county i is assigned to one district\n",
    "m.addConstrs( gp.quicksum( x[i,j] for j in range(k) ) == 1 for i in G.nodes ) \n",
    "\n",
    "# add constraints saying that each district has population at least y\n",
    "m.addConstrs( gp.quicksum( G.nodes[i]['TOTPOP'] * x[i,j] for i in G.nodes ) >= y for j in range(k) )\n",
    "\n",
    "# add constraints saying that each district has population at most z\n",
    "m.addConstrs( gp.quicksum( G.nodes[i]['TOTPOP'] * x[i,j] for i in G.nodes ) <= z for j in range(k) )\n",
    "\n",
    "m.update()"
   ]
  },
  {
   "cell_type": "code",
   "execution_count": 6,
   "metadata": {},
   "outputs": [
    {
     "name": "stdout",
     "output_type": "stream",
     "text": [
      "Gurobi Optimizer version 10.0.0 build v10.0.0rc2 (win64)\n",
      "\n",
      "CPU model: Intel(R) Core(TM) i7-6700HQ CPU @ 2.60GHz, instruction set [SSE2|AVX|AVX2]\n",
      "Thread count: 4 physical cores, 8 logical processors, using up to 8 threads\n",
      "\n",
      "Optimize a model with 107 rows, 398 columns and 1196 nonzeros\n",
      "Model fingerprint: 0x36c28af2\n",
      "Variable types: 2 continuous, 396 integer (396 binary)\n",
      "Coefficient statistics:\n",
      "  Matrix range     [1e+00, 5e+05]\n",
      "  Objective range  [1e+00, 1e+00]\n",
      "  Bounds range     [1e+00, 1e+00]\n",
      "  RHS range        [1e+00, 1e+00]\n",
      "Found heuristic solution: objective 682278.00000\n",
      "Presolve time: 0.00s\n",
      "Presolved: 107 rows, 398 columns, 1196 nonzeros\n",
      "Variable types: 0 continuous, 398 integer (396 binary)\n",
      "\n",
      "Root relaxation: objective -1.164153e-10, 137 iterations, 0.00 seconds (0.00 work units)\n",
      "\n",
      "    Nodes    |    Current Node    |     Objective Bounds      |     Work\n",
      " Expl Unexpl |  Obj  Depth IntInf | Incumbent    BestBd   Gap | It/Node Time\n",
      "\n",
      "     0     0   -0.00000    0    8 682278.000   -0.00000   100%     -    0s\n",
      "H    0     0                    301398.00000   -0.00000   100%     -    0s\n",
      "H    0     0                    199542.00000   -0.00000   100%     -    0s\n",
      "H    0     0                    161831.00000   -0.00000   100%     -    0s\n",
      "H    0     0                    43753.000000   -0.00000   100%     -    0s\n",
      "H    0     0                    19549.000000   -0.00000   100%     -    0s\n",
      "     0     0    0.00000    0   10 19549.0000    0.00000   100%     -    0s\n",
      "H    0     0                    3495.0000000    0.00000   100%     -    0s\n",
      "     0     0    0.00000    0    9 3495.00000    0.00000   100%     -    0s\n",
      "     0     0    0.00000    0    9 3495.00000    0.00000   100%     -    0s\n",
      "     0     0    0.00000    0    9 3495.00000    0.00000   100%     -    0s\n",
      "H    0     0                    2172.0000000    0.00000   100%     -    0s\n",
      "H    0     0                     655.0000000    0.00000   100%     -    0s\n",
      "     0     2    1.00000    0    7  655.00000    1.00000   100%     -    0s\n",
      "H  219   282                     606.0000000    1.00000   100%   4.5    0s\n",
      "H  286   430                     255.0000000    1.00000   100%   4.5    0s\n",
      "H  486   888                     187.0000000    1.00000  99.5%   3.8    0s\n",
      "H  978   885                      92.0000000    1.00000  98.9%   3.7    0s\n",
      "H 1195  1298                      42.0000000    1.00000  97.6%   3.5    0s\n",
      "H 1642  1235                       5.0000000    1.00000  80.0%   3.4    0s\n",
      "H 1650  1178                       3.0000000    1.00000  66.7%   3.4    0s\n",
      "H 3074  2043                       2.0000000    1.00000  50.0%   5.6    1s\n",
      " 29818  7380    1.00000  155    6    2.00000    1.00000  50.0%   5.8    5s\n",
      "*38717   462             180       1.0000000    1.00000  0.00%   5.8    6s\n",
      "\n",
      "Cutting planes:\n",
      "  Cover: 56\n",
      "  MIR: 118\n",
      "  StrongCG: 119\n",
      "  Flow cover: 39\n",
      "\n",
      "Explored 39319 nodes (232096 simplex iterations) in 6.40 seconds (3.95 work units)\n",
      "Thread count was 8 (of 8 available processors)\n",
      "\n",
      "Solution count 10: 1 2 3 ... 655\n",
      "\n",
      "Optimal solution found (tolerance 1.00e-04)\n",
      "Best objective 1.000000000000e+00, best bound 1.000000000000e+00, gap 0.0000%\n"
     ]
    }
   ],
   "source": [
    "# solve IP model\n",
    "m.optimize()"
   ]
  },
  {
   "cell_type": "code",
   "execution_count": 7,
   "metadata": {},
   "outputs": [
    {
     "name": "stdout",
     "output_type": "stream",
     "text": [
      "The minimum required deviation is 1.0 persons.\n",
      "District 0 has these nodes = [0, 1, 3, 17, 25, 27, 29, 35, 40, 41, 45, 54, 57, 65, 70, 81, 86, 88, 94, 96, 98] and this population = 797592\n",
      "The corresponding county names are = ['Wright', 'Montgomery', 'Keokuk', 'Boone', 'Scott', 'Fremont', 'Butler', 'Osceola', 'Lyon', 'Adams', 'Tama', 'Washington', 'Winnebago', 'Harrison', 'Palo Alto', 'Hancock', 'Wayne', 'Linn', 'Marion', 'Appanoose', 'Johnson']\n",
      "\n",
      "District 1 has these nodes = [4, 8, 12, 31, 56, 59, 78, 80] and this population = 797592\n",
      "The corresponding county names are = ['Story', 'Polk', 'Davis', 'Woodbury', 'Allamakee', 'Cass', 'Warren', 'Chickasaw']\n",
      "\n",
      "District 2 has these nodes = [2, 5, 6, 7, 15, 19, 20, 22, 23, 36, 42, 46, 49, 52, 53, 58, 61, 64, 74, 75, 76, 79, 82, 84, 85, 92, 93, 95, 97] and this population = 797592\n",
      "The corresponding county names are = ['Union', 'Mitchell', 'Grundy', 'Winneshiek', 'Jones', 'Plymouth', 'Pottawattamie', 'Page', 'Cherokee', 'Cerro Gordo', 'Monona', 'Monroe', 'Hamilton', \"O'Brien\", 'Guthrie', 'Ida', 'Cedar', 'Kossuth', 'Worth', 'Black Hawk', 'Clarke', 'Adair', 'Dubuque', 'Shelby', 'Benton', 'Mills', 'Dallas', 'Mahaska', 'Van Buren']\n",
      "\n",
      "District 3 has these nodes = [9, 10, 11, 13, 14, 16, 18, 21, 24, 26, 28, 30, 32, 33, 34, 37, 38, 39, 43, 44, 47, 48, 50, 51, 55, 60, 62, 63, 66, 67, 68, 69, 71, 72, 73, 77, 83, 87, 89, 90, 91] and this population = 797593\n",
      "The corresponding county names are = ['Sac', 'Marshall', 'Delaware', 'Floyd', 'Audubon', 'Hardin', 'Jasper', 'Taylor', 'Des Moines', 'Lee', 'Iowa', 'Emmet', 'Clay', 'Crawford', 'Buchanan', 'Greene', 'Wapello', 'Henry', 'Humboldt', 'Louisa', 'Muscatine', 'Lucas', 'Franklin', 'Bremer', 'Sioux', 'Decatur', 'Carroll', 'Pocahontas', 'Webster', 'Jefferson', 'Madison', 'Howard', 'Ringgold', 'Clinton', 'Calhoun', 'Fayette', 'Poweshiek', 'Jackson', 'Dickinson', 'Clayton', 'Buena Vista']\n",
      "\n"
     ]
    }
   ],
   "source": [
    "# print the absolute population deviation\n",
    "print(\"The minimum required deviation is\",m.objVal,\"persons.\")\n",
    "\n",
    "# retrieve the districts and their populations\n",
    "districts = [ [ i for i in G.nodes if x[i,j].x > 0.5 ] for j in range(k) ]\n",
    "district_county_names = [ [ G.nodes[i]['NAME20'] for i in district ] for district in districts ]\n",
    "district_populations = [ sum( G.nodes[i]['TOTPOP'] for i in district ) for district in districts ]\n",
    "\n",
    "# print district info\n",
    "for j in range(k):\n",
    "    print(\"District\",j,\"has these nodes =\",districts[j],\"and this population =\",district_populations[j] )\n",
    "    print(\"The corresponding county names are =\",district_county_names[j] )\n",
    "    print(\"\")"
   ]
  },
  {
   "cell_type": "code",
   "execution_count": 8,
   "metadata": {},
   "outputs": [
    {
     "name": "stdout",
     "output_type": "stream",
     "text": [
      "Is district = [0, 1, 3, 17, 25, 27, 29, 35, 40, 41, 45, 54, 57, 65, 70, 81, 86, 88, 94, 96, 98] connected? False\n",
      "Is district = [4, 8, 12, 31, 56, 59, 78, 80] connected? False\n",
      "Is district = [2, 5, 6, 7, 15, 19, 20, 22, 23, 36, 42, 46, 49, 52, 53, 58, 61, 64, 74, 75, 76, 79, 82, 84, 85, 92, 93, 95, 97] connected? False\n",
      "Is district = [9, 10, 11, 13, 14, 16, 18, 21, 24, 26, 28, 30, 32, 33, 34, 37, 38, 39, 43, 44, 47, 48, 50, 51, 55, 60, 62, 63, 66, 67, 68, 69, 71, 72, 73, 77, 83, 87, 89, 90, 91] connected? False\n"
     ]
    }
   ],
   "source": [
    "import networkx as nx\n",
    "for district in districts:\n",
    "    print(\"Is district =\", district, \"connected?\", nx.is_connected( G.subgraph( district ) ) )"
   ]
  },
  {
   "cell_type": "code",
   "execution_count": null,
   "metadata": {},
   "outputs": [],
   "source": []
  }
 ],
 "metadata": {
  "kernelspec": {
   "display_name": "Python 3 (ipykernel)",
   "language": "python",
   "name": "python3"
  },
  "language_info": {
   "codemirror_mode": {
    "name": "ipython",
    "version": 3
   },
   "file_extension": ".py",
   "mimetype": "text/x-python",
   "name": "python",
   "nbconvert_exporter": "python",
   "pygments_lexer": "ipython3",
   "version": "3.9.13"
  }
 },
 "nbformat": 4,
 "nbformat_minor": 4
}
